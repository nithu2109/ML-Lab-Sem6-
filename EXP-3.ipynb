{
  "nbformat": 4,
  "nbformat_minor": 0,
  "metadata": {
    "colab": {
      "name": "EXP-3.ipynb",
      "provenance": [],
      "collapsed_sections": [],
      "include_colab_link": true
    },
    "kernelspec": {
      "name": "python3",
      "display_name": "Python 3"
    },
    "language_info": {
      "name": "python"
    }
  },
  "cells": [
    {
      "cell_type": "markdown",
      "metadata": {
        "id": "view-in-github",
        "colab_type": "text"
      },
      "source": [
        "<a href=\"https://colab.research.google.com/github/nithu2109/ML-Lab-Sem6-/blob/main/EXP-3.ipynb\" target=\"_parent\"><img src=\"https://colab.research.google.com/assets/colab-badge.svg\" alt=\"Open In Colab\"/></a>"
      ]
    },
    {
      "cell_type": "code",
      "metadata": {
        "id": "tEaKLsMT8PDZ"
      },
      "source": [
        "import matplotlib.pyplot as plt\n",
        "from sklearn import datasets\n",
        "from sklearn.discriminant_analysis import LinearDiscriminantAnalysis as LDA"
      ],
      "execution_count": 1,
      "outputs": []
    },
    {
      "cell_type": "code",
      "metadata": {
        "id": "sXS2v03x8aVZ",
        "colab": {
          "base_uri": "https://localhost:8080/"
        },
        "outputId": "bcb4f1c2-a778-4b7f-8c6b-d781a5cbbba4"
      },
      "source": [
        "wine = datasets.load_wine()\n",
        "\n",
        "X = wine.data\n",
        "y = wine.target\n",
        "target_names = wine.target_names\n",
        "print(target_names)"
      ],
      "execution_count": 2,
      "outputs": [
        {
          "output_type": "stream",
          "name": "stdout",
          "text": [
            "['class_0' 'class_1' 'class_2']\n"
          ]
        }
      ]
    },
    {
      "cell_type": "code",
      "metadata": {
        "id": "4FPatGh-FDX_"
      },
      "source": [
        "lda = LDA(n_components=2)\n",
        "lda_X = lda.fit(X,y).transform(X)"
      ],
      "execution_count": 3,
      "outputs": []
    },
    {
      "cell_type": "code",
      "metadata": {
        "colab": {
          "base_uri": "https://localhost:8080/",
          "height": 299
        },
        "id": "BtN-LGVB8dr-",
        "outputId": "5a750595-1437-4ffd-dc6a-0454e3a799cd"
      },
      "source": [
        "plt.scatter(lda_X[y == 0, 0], lda_X[y == 0, 1], s =50, c = 'blue', label = 'Ash')\n",
        "plt.scatter(lda_X[y == 1, 0], lda_X[y == 1, 1], s =50,  c = 'black', label = 'Alcohol')\n",
        "plt.scatter(lda_X[y == 2, 0], lda_X[y == 2, 1], s =50,  c = 'green', label = 'Magnesium')\n",
        "plt.title('LDA plot for Wine Dataset')\n"
      ],
      "execution_count": 4,
      "outputs": [
        {
          "output_type": "execute_result",
          "data": {
            "text/plain": [
              "Text(0.5, 1.0, 'LDA plot for Wine Dataset')"
            ]
          },
          "metadata": {},
          "execution_count": 4
        },
        {
          "output_type": "display_data",
          "data": {
            "text/plain": [
              "<Figure size 432x288 with 1 Axes>"
            ],
            "image/png": "[encoded data removed]"
          },
          "metadata": {
            "needs_background": "light"
          }
        }
      ]
    }
  ]
}